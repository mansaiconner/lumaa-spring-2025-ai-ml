{
 "cells": [
  {
   "cell_type": "code",
   "execution_count": 72,
   "id": "34399e16-dfc3-4073-afb4-85e6aaa47a50",
   "metadata": {},
   "outputs": [],
   "source": [
    "import pandas as pd\n",
    "import numpy as np\n",
    "\n",
    "\n",
    "movies = pd.read_csv('IMDB-Movie-Data.csv', usecols=['Title', 'Genre', 'Description'])\n",
    "movies['Description'] = movies['Description'].str.lower()"
   ]
  },
  {
   "cell_type": "code",
   "execution_count": 73,
   "id": "bae650a8-50d2-4031-8146-10c4a188e086",
   "metadata": {},
   "outputs": [],
   "source": [
    "char_to_remove = ['i love', '.', '/', '!', '@', '$', '%', '&', '*', '#', '?', ',', '(', ')']\n",
    "\n",
    "words_to_remove = ['i', 'me', 'my', 'myself', 'we', 'our', 'ours', \n",
    "'ourselves', 'you', \"you're\", \"you've\", \"you'll\", \"you'd\", 'your', 'yours', 'yourself', \n",
    "'yourselves', 'he', 'him', 'his', 'himself', 'she', \"she's\", 'her', 'hers', 'herself', \n",
    "'it', \"it's\", 'its', 'itself', 'they', 'them', 'their', 'theirs', 'themselves',\n",
    " 'what', 'which', 'who', 'whom', 'this', 'that', \"that'll\", 'these', 'those', 'am', 'is', 'are',\n",
    " 'was', 'were', 'be', 'been', 'being', 'have', 'has', 'had', 'having', 'do', 'does', 'did', 'doing',\n",
    " 'a', 'an', 'the', 'and', 'but', 'if', 'or', 'because', 'as', 'until', 'while', 'of', 'at', 'by', 'for', \n",
    "'with', 'about', 'against', 'between', 'into', 'through', 'during', 'before', 'after', 'above', 'below', 'to', \n",
    "'from', 'up', 'down', 'in', 'out', 'on', 'off', 'over', 'under', 'again', 'further', 'then', 'once', \n",
    "'here', 'there', 'when', 'where', 'why', 'how', 'all', 'any', 'both', 'each', 'few', 'more', 'most', \n",
    "'other', 'some', 'such', 'no', 'nor', 'not', 'only', 'own', 'same', 'so', 'than', 'too', 'very', \n",
    "'s', 't', 'can', 'will', 'just', 'don', \"don't\", 'should', \"should've\", 'now', 'd', 'll', 'm', 'o', 're', 've', 'y',\n",
    " 'ain', 'aren', \"aren't\", 'couldn', \"couldn't\", 'didn', \"didn't\", 'doesn', \"doesn't\", \n",
    "'hadn', \"hadn't\", 'hasn', \"hasn't\", 'haven', \"haven't\", 'isn', \"isn't\", 'ma', 'mightn',\n",
    " \"mightn't\", 'mustn', \"mustn't\", 'needn', \"needn't\", 'shan', \"shan't\", 'shouldn', \"shouldn't\", \n",
    "'wasn', \"wasn't\", 'weren', \"weren't\", 'won', \"won't\", 'wouldn', \"wouldn't\", 'watch', 'like', 'movies', 'best', 'movie', 'watch', 'watching', 'movies']\n",
    "\n",
    "def remove_dups(word_list):\n",
    "    seen = set()\n",
    "    cleanlist = []\n",
    "    for word in word_list:\n",
    "        if word not in seen:\n",
    "            seen.add(word)\n",
    "            cleanlist.append(word)\n",
    "\n",
    "    return cleanlist\n"
   ]
  },
  {
   "cell_type": "code",
   "execution_count": 74,
   "id": "1eb063f7-72bc-4d9c-ad6d-8f8ecd324f96",
   "metadata": {
    "scrolled": true
   },
   "outputs": [],
   "source": [
    "\n",
    "    \n",
    "G = []\n",
    "D =[]\n",
    "check = []\n",
    "#### iterate through the movie dataset\n",
    "\n",
    "for p in range(len(movies)):\n",
    "    genre = movies['Genre'][p]\n",
    "    description = movies['Description'][p]\n",
    "    for y in char_to_remove:\n",
    "        description = description.replace(y, '')\n",
    "    #### clean the data\n",
    "    if ',' in genre:\n",
    "        genre = genre.split(',')\n",
    "    else: \n",
    "        genre = [genre]\n",
    "    for l, e in enumerate(genre):\n",
    "        if '-' in e:\n",
    "            g = e.split('-')\n",
    "            for j in range(len(g)):\n",
    "                #print(len(g))\n",
    "                genre.append(g[j])\n",
    "            genre.remove(e)\n",
    "    description = description.split()\n",
    "    for w in words_to_remove:\n",
    "        while w in description:\n",
    "            description.remove(w)\n",
    "    temp = []\n",
    "    for num, des in enumerate(description):\n",
    "        #temp = []\n",
    "        for cha in char_to_remove:\n",
    "            if cha in des:\n",
    "                if cha in temp:\n",
    "                    pass\n",
    "                else:\n",
    "                    temp.append(cha)\n",
    "    for te in temp:\n",
    "        while te in description:\n",
    "            description.remove(te)\n",
    "            \n",
    "    G.append(genre)\n",
    "    D.append(description)\n",
    "    \n",
    "#    movies['Genre'][p] = genre\n",
    "#    movies['Description'][p] = description\n",
    "\n",
    "    \n",
    "\n",
    "\n",
    "\n",
    "    \n"
   ]
  },
  {
   "cell_type": "code",
   "execution_count": 75,
   "id": "3dc8d5ec-28a2-4673-9716-5059ee762b54",
   "metadata": {},
   "outputs": [],
   "source": [
    "def main():\n",
    "    T = True\n",
    "    while T:\n",
    "\n",
    "        input_query = input('Enter movie description or ''exit'': ')\n",
    "        input_query = input_query.lower()\n",
    "        if input_query == 'exit':\n",
    "            return\n",
    "\n",
    "        for c in char_to_remove:\n",
    "            input_query = input_query.replace(c, '')\n",
    "\n",
    "        char_array = input_query.split()\n",
    "        char_array = remove_dups(char_array)\n",
    "        for w in words_to_remove:\n",
    "             while w in char_array:\n",
    "                 char_array.remove(w)\n",
    "        for e in char_array:\n",
    "            if '-' in e:\n",
    "                term = e.split('-')\n",
    "                for ll in term:\n",
    "                    char_array.append(ll)\n",
    "                char_array.remove(e)\n",
    "            \n",
    "        if len(char_array) == 0:\n",
    "            print('No matches')\n",
    "            return\n",
    "        values = []\n",
    "        doc_counts = 0\n",
    "        for p in range(len(G)):\n",
    "            wordcount = 0\n",
    "            doccount = 0\n",
    "            for word in char_array:\n",
    "                for s in range(len(G)):\n",
    "                    if word in G[s]:\n",
    "                        doccount += 1\n",
    "                    elif word in D[s]:\n",
    "                        doccount += 1\n",
    "                for gen in G[p]:\n",
    "                    if gen == word:\n",
    "                        wordcount += 1\n",
    "                for desc in D[p]:\n",
    "                    if desc == word:\n",
    "                        wordcount += 1\n",
    "            num = wordcount/ (len(G[p]) + len(D[p]))\n",
    "            values.append((wordcount/(len(G[p]) + len(D[p]))) *  (float(np.log(len(G)/doccount))))\n",
    "\n",
    "\n",
    "### Prints out the top five movies that match the users input\n",
    "        for i in range(5):\n",
    "            maxval = max(values)\n",
    "            if maxval == 0:\n",
    "                break\n",
    "            index = values.index(maxval)\n",
    "            values[index] = 0\n",
    "            print(movies['Title'][index])"
   ]
  },
  {
   "cell_type": "code",
   "execution_count": 76,
   "id": "43a5cf86-2ff6-44c4-a9ec-894b8965816e",
   "metadata": {},
   "outputs": [
    {
     "name": "stdin",
     "output_type": "stream",
     "text": [
      "Enter movie description or exit:  dog\n"
     ]
    },
    {
     "name": "stdout",
     "output_type": "stream",
     "text": [
      "Hachi: A Dog's Tale\n",
      "Max\n"
     ]
    },
    {
     "name": "stdin",
     "output_type": "stream",
     "text": [
      "Enter movie description or exit:  exit\n"
     ]
    }
   ],
   "source": [
    "main()"
   ]
  }
 ],
 "metadata": {
  "kernelspec": {
   "display_name": "Python 3 (ipykernel)",
   "language": "python",
   "name": "python3"
  },
  "language_info": {
   "codemirror_mode": {
    "name": "ipython",
    "version": 3
   },
   "file_extension": ".py",
   "mimetype": "text/x-python",
   "name": "python",
   "nbconvert_exporter": "python",
   "pygments_lexer": "ipython3",
   "version": "3.12.5"
  }
 },
 "nbformat": 4,
 "nbformat_minor": 5
}
